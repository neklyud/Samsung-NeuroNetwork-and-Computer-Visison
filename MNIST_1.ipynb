{
  "nbformat": 4,
  "nbformat_minor": 0,
  "metadata": {
    "colab": {
      "name": "MNIST_1",
      "provenance": [],
      "include_colab_link": true
    },
    "kernelspec": {
      "name": "python3",
      "display_name": "Python 3"
    }
  },
  "cells": [
    {
      "cell_type": "markdown",
      "metadata": {
        "id": "view-in-github",
        "colab_type": "text"
      },
      "source": [
        "<a href=\"https://colab.research.google.com/github/neklyud/Samsung-NeuroNetwork-and-Computer-Visison/blob/master/MNIST_1.ipynb\" target=\"_parent\"><img src=\"https://colab.research.google.com/assets/colab-badge.svg\" alt=\"Open In Colab\"/></a>"
      ]
    },
    {
      "cell_type": "code",
      "metadata": {
        "id": "UCPko7epXK-6",
        "colab_type": "code",
        "colab": {
          "base_uri": "https://localhost:8080/",
          "height": 265
        },
        "outputId": "cb754522-2f66-498c-bddd-062afa593276"
      },
      "source": [
        "import torch\n",
        "import random\n",
        "import numpy as np\n",
        "\n",
        "random.seed(0)\n",
        "np.random.seed(0)\n",
        "torch.manual_seed(0)\n",
        "torch.cuda.manual_seed(0)\n",
        "torch.backends.cudnn.deterministic = True\n",
        "import torchvision.datasets\n",
        "MNIST_train = torchvision.datasets.MNIST('./', download=True, train=True)\n",
        "MNIST_test = torchvision.datasets.MNIST('./', download=True, train=False)"
      ],
      "execution_count": 1,
      "outputs": [
        {
          "output_type": "stream",
          "text": [
            "  0%|          | 16384/9912422 [00:00<01:18, 125511.13it/s]"
          ],
          "name": "stderr"
        },
        {
          "output_type": "stream",
          "text": [
            "Downloading http://yann.lecun.com/exdb/mnist/train-images-idx3-ubyte.gz to ./MNIST/raw/train-images-idx3-ubyte.gz\n"
          ],
          "name": "stdout"
        },
        {
          "output_type": "stream",
          "text": [
            "9920512it [00:02, 4075608.04it/s]                             \n"
          ],
          "name": "stderr"
        },
        {
          "output_type": "stream",
          "text": [
            "Extracting ./MNIST/raw/train-images-idx3-ubyte.gz\n"
          ],
          "name": "stdout"
        },
        {
          "output_type": "stream",
          "text": [
            "32768it [00:00, 434474.17it/s]\n",
            "  2%|▏         | 40960/1648877 [00:00<00:04, 382706.97it/s]"
          ],
          "name": "stderr"
        },
        {
          "output_type": "stream",
          "text": [
            "Downloading http://yann.lecun.com/exdb/mnist/train-labels-idx1-ubyte.gz to ./MNIST/raw/train-labels-idx1-ubyte.gz\n",
            "Extracting ./MNIST/raw/train-labels-idx1-ubyte.gz\n",
            "Downloading http://yann.lecun.com/exdb/mnist/t10k-images-idx3-ubyte.gz to ./MNIST/raw/t10k-images-idx3-ubyte.gz\n"
          ],
          "name": "stdout"
        },
        {
          "output_type": "stream",
          "text": [
            "1654784it [00:00, 2533285.28it/s]                             \n",
            "8192it [00:00, 171466.90it/s]\n"
          ],
          "name": "stderr"
        },
        {
          "output_type": "stream",
          "text": [
            "Extracting ./MNIST/raw/t10k-images-idx3-ubyte.gz\n",
            "Downloading http://yann.lecun.com/exdb/mnist/t10k-labels-idx1-ubyte.gz to ./MNIST/raw/t10k-labels-idx1-ubyte.gz\n",
            "Extracting ./MNIST/raw/t10k-labels-idx1-ubyte.gz\n",
            "Processing...\n",
            "Done!\n"
          ],
          "name": "stdout"
        }
      ]
    },
    {
      "cell_type": "code",
      "metadata": {
        "id": "C3E_CxwOY5ef",
        "colab_type": "code",
        "outputId": "8145f640-daad-4564-8959-1f2a4a144cf3",
        "colab": {
          "base_uri": "https://localhost:8080/",
          "height": 158
        }
      },
      "source": [
        "X_train = MNIST_train.train_data\n",
        "y_train = MNIST_train.train_labels\n",
        "X_test = MNIST_test.test_data\n",
        "y_test = MNIST_test.test_labels"
      ],
      "execution_count": 2,
      "outputs": [
        {
          "output_type": "stream",
          "text": [
            "/usr/local/lib/python3.6/dist-packages/torchvision/datasets/mnist.py:53: UserWarning: train_data has been renamed data\n",
            "  warnings.warn(\"train_data has been renamed data\")\n",
            "/usr/local/lib/python3.6/dist-packages/torchvision/datasets/mnist.py:43: UserWarning: train_labels has been renamed targets\n",
            "  warnings.warn(\"train_labels has been renamed targets\")\n",
            "/usr/local/lib/python3.6/dist-packages/torchvision/datasets/mnist.py:58: UserWarning: test_data has been renamed data\n",
            "  warnings.warn(\"test_data has been renamed data\")\n",
            "/usr/local/lib/python3.6/dist-packages/torchvision/datasets/mnist.py:48: UserWarning: test_labels has been renamed targets\n",
            "  warnings.warn(\"test_labels has been renamed targets\")\n"
          ],
          "name": "stderr"
        }
      ]
    },
    {
      "cell_type": "code",
      "metadata": {
        "id": "4P-Y0UCGZEzy",
        "colab_type": "code",
        "outputId": "6eb195a7-b25f-4b0c-95f6-cbac94ed3673",
        "colab": {
          "base_uri": "https://localhost:8080/",
          "height": 34
        }
      },
      "source": [
        "X_train.dtype, y_train.dtype\n"
      ],
      "execution_count": 3,
      "outputs": [
        {
          "output_type": "execute_result",
          "data": {
            "text/plain": [
              "(torch.uint8, torch.int64)"
            ]
          },
          "metadata": {
            "tags": []
          },
          "execution_count": 3
        }
      ]
    },
    {
      "cell_type": "code",
      "metadata": {
        "id": "-jgZFvLcZOL2",
        "colab_type": "code",
        "colab": {}
      },
      "source": [
        "X_train = X_train.float()\n",
        "X_test = X_test.float()"
      ],
      "execution_count": 0,
      "outputs": []
    },
    {
      "cell_type": "code",
      "metadata": {
        "id": "HLaz3gVuZZnC",
        "colab_type": "code",
        "outputId": "f98ea203-c78a-4e28-8c26-545427bc9a46",
        "colab": {
          "base_uri": "https://localhost:8080/",
          "height": 34
        }
      },
      "source": [
        "X_train.shape, X_test.shape"
      ],
      "execution_count": 5,
      "outputs": [
        {
          "output_type": "execute_result",
          "data": {
            "text/plain": [
              "(torch.Size([60000, 28, 28]), torch.Size([10000, 28, 28]))"
            ]
          },
          "metadata": {
            "tags": []
          },
          "execution_count": 5
        }
      ]
    },
    {
      "cell_type": "code",
      "metadata": {
        "id": "ni4WOeC4Zi_g",
        "colab_type": "code",
        "outputId": "375eebf7-6552-44dc-ceac-672c465c2aad",
        "colab": {
          "base_uri": "https://localhost:8080/",
          "height": 34
        }
      },
      "source": [
        "y_train.shape, y_test.shape"
      ],
      "execution_count": 6,
      "outputs": [
        {
          "output_type": "execute_result",
          "data": {
            "text/plain": [
              "(torch.Size([60000]), torch.Size([10000]))"
            ]
          },
          "metadata": {
            "tags": []
          },
          "execution_count": 6
        }
      ]
    },
    {
      "cell_type": "code",
      "metadata": {
        "id": "8wrMVYYWZu2y",
        "colab_type": "code",
        "outputId": "4b604f12-1e5b-4d43-f4bb-4ea2ca0ea729",
        "colab": {
          "base_uri": "https://localhost:8080/",
          "height": 286
        }
      },
      "source": [
        "import matplotlib.pyplot as plt\n",
        "plt.imshow(X_train[0, :,:])\n",
        "plt.show()\n",
        "print(y_train[0])"
      ],
      "execution_count": 7,
      "outputs": [
        {
          "output_type": "display_data",
          "data": {
            "image/png": "[encoded data removed]",
            "text/plain": [
              "<Figure size 432x288 with 1 Axes>"
            ]
          },
          "metadata": {
            "tags": []
          }
        },
        {
          "output_type": "stream",
          "text": [
            "tensor(5)\n"
          ],
          "name": "stdout"
        }
      ]
    },
    {
      "cell_type": "code",
      "metadata": {
        "id": "rMTguxmYbah2",
        "colab_type": "code",
        "colab": {}
      },
      "source": [
        "X_train = X_train.reshape([-1, 28 * 28])\n",
        "X_test = X_test.reshape([-1, 28 * 28])"
      ],
      "execution_count": 0,
      "outputs": []
    },
    {
      "cell_type": "code",
      "metadata": {
        "id": "2HgPuWOebgtO",
        "colab_type": "code",
        "colab": {}
      },
      "source": [
        "class MNISTNet(torch.nn.Module):\n",
        "    def __init__(self, n_hidden_neurons):\n",
        "        super(MNISTNet, self).__init__()\n",
        "        self.fc1 = torch.nn.Linear(28 * 28, n_hidden_neurons)\n",
        "        self.ac1 = torch.nn.ReLU()\n",
        "        self.fc2 = torch.nn.Linear(n_hidden_neurons, 10) \n",
        "    \n",
        "    def forward(self, x):\n",
        "        x = self.fc1(x)\n",
        "        x = self.ac1(x)\n",
        "        x = self.fc2(x)\n",
        "        return x\n",
        "    \n",
        "mnist_net = MNISTNet(100)"
      ],
      "execution_count": 0,
      "outputs": []
    },
    {
      "cell_type": "code",
      "metadata": {
        "id": "KGEsrNncbrcq",
        "colab_type": "code",
        "outputId": "c65cd58d-dc83-45f3-e099-82d9066a2f12",
        "colab": {
          "base_uri": "https://localhost:8080/",
          "height": 34
        }
      },
      "source": [
        "torch.cuda.is_available()\n"
      ],
      "execution_count": 31,
      "outputs": [
        {
          "output_type": "execute_result",
          "data": {
            "text/plain": [
              "False"
            ]
          },
          "metadata": {
            "tags": []
          },
          "execution_count": 31
        }
      ]
    },
    {
      "cell_type": "code",
      "metadata": {
        "id": "_apIVNlxbwvm",
        "colab_type": "code",
        "outputId": "fac0d128-4ca4-4148-a0c6-31b6b75873ab",
        "colab": {
          "base_uri": "https://localhost:8080/",
          "height": 52
        }
      },
      "source": [
        "!nvidia-smi"
      ],
      "execution_count": 32,
      "outputs": [
        {
          "output_type": "stream",
          "text": [
            "NVIDIA-SMI has failed because it couldn't communicate with the NVIDIA driver. Make sure that the latest NVIDIA driver is installed and running.\n",
            "\n"
          ],
          "name": "stdout"
        }
      ]
    },
    {
      "cell_type": "code",
      "metadata": {
        "id": "OP57iZswb3n7",
        "colab_type": "code",
        "outputId": "f1a951ee-febd-418c-ad03-82d9a8f4de3d",
        "colab": {
          "base_uri": "https://localhost:8080/",
          "height": 1000
        }
      },
      "source": [
        "device = torch.device('cuda:0' if torch.cuda.is_available() else 'cpu')\n",
        "mnist_net = mnist_net.to(device)\n",
        "list(mnist_net.parameters())"
      ],
      "execution_count": 33,
      "outputs": [
        {
          "output_type": "execute_result",
          "data": {
            "text/plain": [
              "[Parameter containing:\n",
              " tensor([[-0.0265, -0.0049,  0.0258,  ..., -0.0219,  0.0263, -0.0246],\n",
              "         [ 0.0097, -0.0079,  0.0237,  ...,  0.0312,  0.0154,  0.0228],\n",
              "         [-0.0180,  0.0113,  0.0204,  ..., -0.0239,  0.0097,  0.0053],\n",
              "         ...,\n",
              "         [ 0.0114, -0.0017, -0.0042,  ...,  0.0037,  0.0134, -0.0219],\n",
              "         [ 0.0226,  0.0254, -0.0292,  ..., -0.0085,  0.0151, -0.0015],\n",
              "         [-0.0230,  0.0333, -0.0202,  ..., -0.0079,  0.0175,  0.0357]],\n",
              "        requires_grad=True), Parameter containing:\n",
              " tensor([-0.0165,  0.0049,  0.0016, -0.0050, -0.0241,  0.0225,  0.0146,  0.0308,\n",
              "         -0.0063, -0.0259, -0.0164, -0.0327, -0.0028, -0.0160,  0.0009, -0.0257,\n",
              "          0.0004, -0.0288,  0.0080,  0.0040,  0.0010,  0.0138,  0.0127, -0.0244,\n",
              "          0.0032,  0.0049,  0.0191,  0.0006,  0.0152, -0.0198, -0.0019, -0.0287,\n",
              "         -0.0078,  0.0024, -0.0277,  0.0224, -0.0263,  0.0070,  0.0138,  0.0171,\n",
              "         -0.0264,  0.0180,  0.0008,  0.0331,  0.0176, -0.0225,  0.0096, -0.0077,\n",
              "          0.0038, -0.0261, -0.0329, -0.0197, -0.0351, -0.0119, -0.0129, -0.0101,\n",
              "         -0.0065,  0.0282,  0.0196, -0.0055,  0.0111,  0.0300, -0.0154,  0.0017,\n",
              "          0.0080,  0.0090, -0.0163,  0.0157, -0.0318,  0.0168,  0.0129,  0.0066,\n",
              "         -0.0048, -0.0105,  0.0041, -0.0039, -0.0299,  0.0106, -0.0134, -0.0339,\n",
              "          0.0324,  0.0105, -0.0078,  0.0127, -0.0224, -0.0338, -0.0214,  0.0030,\n",
              "          0.0267, -0.0250, -0.0275,  0.0307,  0.0283,  0.0330, -0.0286,  0.0219,\n",
              "         -0.0136, -0.0324,  0.0263, -0.0090], requires_grad=True), Parameter containing:\n",
              " tensor([[ 7.9528e-02,  6.3472e-02,  5.4381e-02,  1.6367e-03, -7.9125e-03,\n",
              "           5.3989e-02,  5.5880e-03, -8.5539e-03,  6.8123e-02,  3.7698e-02,\n",
              "          -2.6528e-02, -2.1124e-02,  6.5396e-02, -8.6345e-02, -8.0431e-02,\n",
              "           1.4255e-02, -6.2693e-02, -5.1743e-02,  6.3580e-02, -9.9808e-02,\n",
              "          -6.7272e-02, -6.0407e-02, -5.3735e-02,  1.7312e-02,  6.7261e-02,\n",
              "           2.4772e-03, -3.0894e-02, -3.9732e-02,  7.6640e-02, -8.8632e-02,\n",
              "           4.8599e-02,  5.1621e-02, -3.6868e-02,  9.3118e-02, -2.9648e-02,\n",
              "           9.0875e-02, -7.5811e-02, -6.8168e-02,  2.1308e-02,  5.6902e-02,\n",
              "           7.3382e-02, -3.6054e-02,  2.6227e-02,  6.6873e-03,  5.5609e-02,\n",
              "           4.0301e-02, -4.6611e-02,  1.2650e-02,  6.3129e-03,  6.2630e-02,\n",
              "          -4.2148e-02,  5.8951e-04, -7.2144e-02,  8.7281e-02,  4.2328e-02,\n",
              "           9.6041e-02,  2.2314e-02, -8.2707e-02, -2.8367e-02,  8.6965e-02,\n",
              "           6.8091e-02,  9.4103e-02, -8.0481e-02,  3.0857e-02,  3.5562e-02,\n",
              "           8.9121e-02,  2.8809e-02, -5.9515e-02, -3.9620e-03, -8.5709e-02,\n",
              "          -1.2924e-02, -4.2802e-03, -7.1878e-02,  8.8689e-02, -2.8439e-02,\n",
              "           8.6072e-02,  1.1897e-02, -8.8051e-05, -1.6160e-02,  6.0365e-02,\n",
              "           9.9748e-02,  6.4242e-02,  5.1788e-02, -8.6643e-02, -2.0823e-02,\n",
              "           3.1546e-02, -9.9472e-02,  5.7815e-02,  4.0442e-02, -2.5479e-02,\n",
              "          -8.4476e-03,  3.2704e-02, -2.3421e-02,  5.1110e-02,  5.6689e-02,\n",
              "           8.9419e-02,  2.5068e-02, -4.3849e-02, -6.8302e-02,  3.4436e-02],\n",
              "         [-6.1030e-02,  2.7725e-02, -1.4696e-02, -4.1027e-02, -5.4489e-02,\n",
              "           6.2902e-02, -6.1074e-02, -2.8703e-02,  6.7752e-02, -3.1621e-02,\n",
              "          -8.0065e-02,  2.5049e-02, -5.3982e-02,  8.8147e-02, -4.3420e-02,\n",
              "           8.1446e-02,  3.4634e-02,  9.5292e-03,  2.3928e-02,  9.8048e-02,\n",
              "           6.1498e-04,  4.7749e-02,  7.3710e-02,  4.7010e-02, -1.7413e-02,\n",
              "           4.5914e-02,  4.8980e-02, -2.9030e-02, -3.9912e-02,  8.0553e-02,\n",
              "           4.9212e-02,  8.2806e-02, -7.0722e-02,  9.6899e-02,  2.3390e-03,\n",
              "          -6.2098e-02, -5.7526e-02, -3.6558e-02, -5.2103e-03, -9.3570e-02,\n",
              "           9.3305e-02, -4.6463e-02, -3.8834e-03, -8.5666e-02,  1.6082e-02,\n",
              "           3.3649e-02, -2.5100e-02,  4.1250e-03, -2.1990e-02, -2.1440e-02,\n",
              "           6.2558e-02, -2.0435e-02, -7.1878e-03,  7.7362e-02, -1.7887e-02,\n",
              "          -6.4696e-04,  6.8888e-02, -5.3839e-02,  1.7224e-02,  1.2437e-02,\n",
              "          -1.6651e-02, -9.2160e-02,  2.4151e-02,  6.8777e-02,  1.8358e-05,\n",
              "           8.7871e-02, -6.4354e-02,  2.8447e-03, -6.1501e-02, -4.5375e-02,\n",
              "          -5.0922e-02, -3.1086e-02, -5.1269e-02,  5.8991e-04,  2.0531e-02,\n",
              "          -4.4592e-02, -4.6438e-02,  9.6953e-02,  2.8364e-02,  8.2215e-02,\n",
              "          -1.2468e-02, -4.8796e-02, -8.1344e-02,  5.3006e-02,  1.6723e-02,\n",
              "           8.5782e-03,  3.0169e-02,  1.9681e-02, -3.2523e-03, -7.0109e-02,\n",
              "           9.2109e-02, -1.1448e-02, -9.7019e-03,  3.7642e-02,  4.6029e-03,\n",
              "          -3.8283e-02, -5.1743e-02,  3.1893e-02,  4.3724e-02, -9.8939e-02],\n",
              "         [-1.9692e-02,  3.4353e-02, -1.9261e-02, -6.6324e-02, -2.3539e-02,\n",
              "           9.0191e-02,  4.4431e-02,  3.8877e-02, -4.0815e-02,  9.5559e-02,\n",
              "          -9.3175e-02,  8.9865e-02,  4.3756e-02, -1.5621e-03, -6.9620e-02,\n",
              "           1.7326e-02, -6.1142e-02, -4.5020e-02, -3.7398e-02,  2.3437e-02,\n",
              "          -3.5541e-02, -8.9808e-04, -1.8680e-02,  3.7398e-02, -6.8824e-02,\n",
              "          -3.4324e-02, -1.7855e-02,  7.9884e-02, -3.6879e-02, -5.3558e-02,\n",
              "          -5.2425e-02,  9.4052e-02,  7.7201e-03, -4.7572e-02,  6.1945e-02,\n",
              "           1.3439e-02, -6.3110e-03,  2.6464e-02, -5.6277e-04, -3.9702e-02,\n",
              "          -7.1355e-02,  1.3118e-03, -2.4388e-02, -6.2302e-03,  7.3156e-02,\n",
              "           9.5876e-02,  3.9904e-02,  3.8675e-02,  6.3104e-02, -6.5151e-02,\n",
              "          -7.7989e-02, -7.9670e-02,  4.9240e-03,  4.9718e-02,  1.2850e-02,\n",
              "           1.3560e-02,  8.1080e-02,  9.3276e-02, -7.6412e-02, -9.2708e-02,\n",
              "          -4.4851e-02, -9.9162e-02, -1.7403e-02, -1.6718e-02,  2.3690e-02,\n",
              "           4.9962e-02,  8.3223e-02,  5.1136e-02, -2.0967e-02, -5.3458e-02,\n",
              "          -9.0977e-02,  5.3569e-02, -2.2591e-03,  1.5857e-02,  9.6167e-02,\n",
              "           3.1874e-05, -6.2943e-03, -5.1934e-02, -6.0651e-02, -7.0808e-02,\n",
              "           1.5759e-03, -4.2239e-02, -7.9053e-02, -1.4084e-02,  5.8910e-02,\n",
              "          -9.0847e-02,  5.8849e-02, -4.0542e-02,  3.1169e-02, -2.0951e-02,\n",
              "          -6.0101e-02,  1.4366e-02, -9.9119e-02,  1.3642e-03, -8.4174e-02,\n",
              "          -4.7725e-02,  8.8629e-03,  2.9443e-02, -3.5938e-02,  7.3455e-02],\n",
              "         [ 1.1117e-02, -4.1176e-02,  3.4848e-02,  1.2437e-02,  9.5124e-02,\n",
              "           2.1812e-02, -1.8903e-02,  3.6140e-02, -5.7761e-02,  7.4793e-02,\n",
              "          -5.6655e-02,  1.4620e-02, -8.2556e-02,  8.2466e-02,  8.1916e-02,\n",
              "           4.3615e-02,  2.8742e-02,  8.0155e-02,  4.7524e-02,  5.7059e-02,\n",
              "           4.8285e-02, -5.4502e-02, -8.6968e-02,  6.7346e-02, -4.0071e-02,\n",
              "           1.0968e-02,  7.8091e-02,  4.3484e-02,  6.5192e-02, -3.2972e-02,\n",
              "          -4.3354e-02,  5.9828e-02, -6.2259e-02, -9.8390e-02,  7.2653e-02,\n",
              "          -5.9293e-02, -1.1278e-02,  5.1811e-02, -9.5760e-02, -6.7091e-02,\n",
              "          -3.4271e-02,  1.5925e-02,  4.9424e-02,  5.5814e-02, -1.0813e-02,\n",
              "          -6.3477e-02, -7.2355e-02, -9.5837e-02,  4.8276e-03,  3.2836e-02,\n",
              "          -6.5488e-03,  7.2282e-02, -8.0382e-02,  9.2671e-02,  2.1763e-02,\n",
              "          -7.6088e-02, -6.4518e-02, -3.6457e-02,  3.8556e-02, -9.3646e-02,\n",
              "           2.4473e-02,  8.4059e-02,  9.8848e-02,  1.3065e-02,  7.3572e-02,\n",
              "          -5.4120e-02, -6.3217e-03, -6.4629e-02,  7.0973e-02, -1.3198e-02,\n",
              "          -2.5641e-02, -7.1193e-02, -1.2876e-02, -9.1476e-02,  3.6519e-02,\n",
              "           9.4869e-02, -1.5394e-02,  9.0946e-02, -5.1656e-02, -2.2585e-02,\n",
              "          -4.0609e-02, -6.2467e-03,  2.6451e-02,  7.6540e-02,  4.0304e-02,\n",
              "          -9.9576e-02, -9.0905e-02, -2.7080e-02,  7.3961e-02, -5.6270e-02,\n",
              "           4.3417e-02, -2.6652e-02,  5.2410e-02, -2.9027e-02,  1.7978e-02,\n",
              "          -9.4558e-02,  7.2454e-02,  5.8823e-03,  7.1113e-03, -5.6360e-02],\n",
              "         [ 2.6348e-02, -6.6798e-02, -2.2853e-03,  9.8583e-02,  9.8239e-02,\n",
              "          -4.8499e-02, -7.5252e-02,  2.2818e-03, -5.8055e-02, -4.1375e-02,\n",
              "           4.0009e-02, -2.9708e-02, -6.1736e-02,  6.9808e-02, -6.0098e-02,\n",
              "           1.0913e-02,  8.1482e-02,  4.1580e-02,  3.0758e-02,  4.4332e-02,\n",
              "           8.1654e-02, -6.6780e-02, -8.9022e-02, -4.4629e-02,  8.9761e-02,\n",
              "          -9.3357e-02, -7.5192e-02, -1.3648e-02, -2.9895e-02,  8.3142e-02,\n",
              "          -1.1598e-02, -7.6523e-02,  7.0524e-02, -5.4269e-02, -1.7774e-02,\n",
              "           6.4009e-02, -7.2482e-02,  6.4514e-02, -2.5441e-02,  9.0084e-02,\n",
              "           4.3618e-02, -2.0785e-02, -4.5118e-02,  9.6621e-02, -6.8439e-02,\n",
              "          -2.9794e-02, -8.7440e-02, -8.6908e-02, -6.5703e-02,  2.4362e-02,\n",
              "          -2.2908e-02,  1.2274e-02,  2.8239e-02, -5.0564e-02, -9.0060e-02,\n",
              "          -9.5445e-03, -4.3074e-02, -4.7987e-02,  3.5793e-02, -2.5229e-02,\n",
              "          -2.7428e-02,  2.2338e-02,  8.2556e-02,  5.9108e-02, -1.1965e-02,\n",
              "          -7.7089e-02, -7.1029e-03,  1.4345e-02, -7.8750e-02,  6.9996e-02,\n",
              "          -9.0090e-02, -1.2339e-02, -8.9341e-02,  8.1742e-02,  8.2626e-02,\n",
              "           7.9723e-02,  2.0382e-02, -4.6168e-02,  1.5295e-02, -3.1355e-02,\n",
              "          -4.0905e-02, -8.9391e-02, -4.3141e-02, -4.5077e-03,  5.2364e-02,\n",
              "           7.0598e-02,  2.3983e-02,  2.1215e-02, -6.7796e-02, -7.9473e-02,\n",
              "           6.7474e-02,  3.0608e-03, -2.0572e-02, -7.6300e-02, -5.9041e-03,\n",
              "           1.4811e-02, -9.8537e-02, -8.7379e-02, -1.5636e-02,  8.5984e-02],\n",
              "         [-5.0889e-03, -4.0996e-03, -3.8778e-02,  2.6216e-02,  7.3203e-02,\n",
              "           3.4789e-03,  6.1736e-02,  9.9050e-02,  7.4769e-02, -8.9281e-02,\n",
              "           1.1271e-02, -4.4779e-02, -1.3159e-02,  2.8677e-02, -8.4097e-02,\n",
              "           3.8514e-02,  7.2238e-02, -7.5341e-02,  2.8075e-02, -3.6279e-02,\n",
              "          -8.8684e-02,  8.1212e-02, -5.8416e-02, -4.4631e-03,  2.1481e-02,\n",
              "           1.7196e-02,  1.4800e-02,  9.4670e-02,  3.1597e-02,  6.7521e-02,\n",
              "           6.2218e-02, -2.5373e-02, -3.0605e-03,  7.4894e-02,  3.6910e-02,\n",
              "          -9.2373e-02,  4.4052e-02,  8.5940e-02,  6.2587e-03,  4.9958e-02,\n",
              "           5.2955e-02,  1.7857e-03,  1.5476e-02, -6.9531e-02,  5.8854e-02,\n",
              "          -7.4246e-02, -2.8959e-02,  3.9845e-03,  7.1748e-02, -1.5252e-02,\n",
              "           6.2837e-02,  1.4124e-02, -9.8577e-02,  5.5729e-02,  2.1453e-02,\n",
              "          -6.1357e-03, -6.7289e-02, -6.2151e-02,  9.4225e-04, -1.3292e-02,\n",
              "          -3.7709e-02,  9.4135e-02,  1.0931e-02, -2.4499e-02,  4.5910e-02,\n",
              "           9.8872e-02, -6.8899e-02, -1.0587e-02,  2.2955e-02,  6.4407e-02,\n",
              "           9.4140e-02,  4.1006e-02, -6.2062e-02, -7.8447e-02, -3.6062e-02,\n",
              "          -4.3823e-02,  5.7210e-02, -9.4191e-02,  7.1113e-02,  3.7029e-02,\n",
              "          -8.2654e-03,  6.5251e-02,  6.1611e-02, -3.9795e-02, -6.5505e-02,\n",
              "          -1.9703e-02, -2.8072e-02, -6.4265e-02,  9.6323e-02,  7.1293e-02,\n",
              "          -3.4086e-02,  9.0946e-02, -1.2894e-02, -3.6510e-02, -1.0843e-02,\n",
              "          -3.7907e-02, -2.2765e-02,  6.2010e-02,  5.4612e-02, -5.8882e-02],\n",
              "         [-5.9875e-02, -4.5430e-02, -6.2851e-02, -5.5408e-02, -8.5762e-02,\n",
              "           9.2722e-02,  6.9814e-02,  2.8001e-02, -3.0124e-02,  3.8690e-02,\n",
              "           9.2046e-02,  9.1224e-02, -4.6935e-02, -4.4544e-02, -7.8647e-02,\n",
              "           3.0927e-04,  3.5189e-02, -7.1522e-02, -3.8473e-02, -4.0798e-02,\n",
              "          -2.2571e-02, -8.5531e-02,  3.2665e-02,  4.6816e-02, -5.8880e-02,\n",
              "           5.3802e-02, -6.7026e-02, -7.6894e-02, -3.1891e-02,  9.0377e-02,\n",
              "          -2.1047e-02, -7.4294e-02,  5.7728e-02,  9.2924e-02,  5.1717e-03,\n",
              "           5.2840e-02, -2.3216e-02, -9.1850e-02, -3.1695e-02,  6.3227e-02,\n",
              "          -6.6359e-02,  1.1723e-02,  6.9053e-02,  1.6485e-02, -3.7809e-02,\n",
              "          -6.3884e-02,  5.5733e-02,  8.3013e-02, -3.8274e-02, -8.6395e-02,\n",
              "          -8.5192e-02,  7.2208e-02,  1.9457e-02,  8.0018e-02,  9.5757e-02,\n",
              "          -8.6122e-02, -2.3338e-02, -6.0036e-02,  2.3408e-04, -2.7439e-02,\n",
              "           5.9286e-02, -4.4681e-02, -3.3623e-02,  2.7650e-02,  3.3562e-03,\n",
              "          -6.3561e-02, -4.6769e-02, -5.7738e-02, -9.9683e-02,  5.3376e-02,\n",
              "          -8.8793e-02,  5.0188e-02, -3.9383e-02, -8.9675e-02,  9.7216e-02,\n",
              "          -5.9975e-02,  2.8564e-03,  4.5142e-02, -7.3235e-02,  5.7508e-02,\n",
              "           3.9835e-02, -4.6168e-02, -2.3612e-03,  3.8124e-02,  1.3543e-02,\n",
              "          -4.3683e-02,  1.4591e-02,  5.1219e-02,  5.9042e-02,  9.5118e-02,\n",
              "          -8.6537e-02, -8.7143e-02,  6.2489e-02,  1.0303e-02, -2.2247e-02,\n",
              "           5.6831e-03,  1.3350e-02, -1.9151e-02,  8.2410e-02,  2.6636e-02],\n",
              "         [ 8.0092e-02,  8.7707e-02,  6.7868e-02,  5.2253e-02, -7.0939e-02,\n",
              "           7.9569e-02, -7.4065e-02, -7.0447e-02, -1.4277e-02, -2.0982e-03,\n",
              "           8.2721e-02,  6.6093e-02, -6.7896e-02, -5.7060e-02, -2.0584e-02,\n",
              "           3.8794e-04, -1.8302e-02,  3.3945e-02, -6.7121e-02,  5.1087e-02,\n",
              "          -1.4735e-02, -9.4070e-02,  3.3185e-02,  5.9058e-02, -2.4660e-02,\n",
              "           3.0447e-02,  1.2223e-02, -7.7819e-02,  2.9190e-02, -1.1823e-02,\n",
              "           4.6187e-02, -6.7881e-02, -2.2383e-02, -2.6315e-02, -6.4782e-02,\n",
              "           8.6020e-02, -9.6814e-02,  4.4787e-02, -7.8291e-02, -3.2685e-02,\n",
              "          -2.2660e-02, -4.4161e-03,  3.3696e-02,  8.5521e-03, -5.4764e-03,\n",
              "           8.5983e-03, -6.1187e-02,  2.5783e-02,  9.5529e-02, -5.9736e-02,\n",
              "          -3.1650e-02, -1.1354e-03, -6.2879e-02, -5.4968e-02,  8.8410e-02,\n",
              "           3.2216e-02,  7.1055e-02, -3.8126e-02, -6.2845e-02, -6.5511e-02,\n",
              "          -8.3280e-02, -2.0228e-02, -5.2812e-02,  8.4311e-02,  3.7812e-03,\n",
              "           2.3755e-03,  6.7415e-02,  3.6711e-03,  9.0246e-02, -3.6505e-02,\n",
              "          -5.4621e-02, -6.6259e-02,  1.3794e-02, -6.8833e-02, -7.9085e-02,\n",
              "          -8.7978e-02, -9.7324e-02,  7.5024e-02,  6.0323e-02,  2.0270e-02,\n",
              "           2.6651e-02, -5.6377e-02,  5.3922e-03,  9.4651e-02, -9.6201e-02,\n",
              "          -1.0945e-02,  5.1464e-02, -6.7947e-02, -5.4347e-02,  3.5164e-02,\n",
              "           9.2050e-02,  3.4131e-02, -2.8473e-02,  7.9882e-02,  4.0333e-02,\n",
              "          -2.4823e-02, -8.2118e-02,  3.6620e-02, -1.1790e-02, -5.8785e-02],\n",
              "         [-4.0900e-02,  6.0580e-02, -3.2402e-02,  5.8522e-02, -3.4150e-02,\n",
              "           8.6066e-02,  4.1392e-02, -2.1896e-02, -1.7636e-02, -7.2102e-02,\n",
              "           3.1764e-02,  9.8367e-02,  9.9787e-02,  4.9323e-02,  8.3850e-02,\n",
              "          -2.0620e-02,  7.2095e-02,  5.6636e-02, -4.3554e-03,  1.7790e-02,\n",
              "          -4.2512e-02, -4.6942e-02, -7.5285e-02, -5.6947e-02,  6.6184e-02,\n",
              "           7.0230e-02, -4.5785e-02, -7.6466e-02,  4.0659e-02, -9.1660e-02,\n",
              "          -9.3405e-02, -6.4855e-02,  6.1386e-02,  1.5918e-02, -1.8032e-02,\n",
              "          -1.0837e-02, -7.1462e-02,  8.9688e-02,  3.6195e-02, -3.2938e-02,\n",
              "           1.3406e-03,  1.2039e-02,  1.9663e-02,  5.8123e-02,  8.7401e-02,\n",
              "          -6.2864e-02,  7.3215e-03,  1.1777e-02,  9.8001e-02,  8.2110e-02,\n",
              "          -4.1834e-02, -4.0556e-02,  6.9252e-02,  6.7562e-02, -4.0170e-03,\n",
              "          -7.8535e-02,  4.3811e-02, -7.4332e-03,  2.0011e-02, -8.2853e-02,\n",
              "           7.1160e-02,  2.7388e-02, -8.8746e-02,  3.2587e-02, -5.2566e-02,\n",
              "          -6.0482e-02,  7.3193e-02,  9.5635e-02,  9.3764e-02, -3.9604e-03,\n",
              "           7.3998e-02,  8.5918e-03,  7.7550e-02, -9.7810e-02,  2.3910e-02,\n",
              "          -5.9284e-02, -3.9490e-02,  2.7164e-02,  4.3587e-02,  1.7874e-03,\n",
              "           8.1544e-02,  2.0646e-02,  2.0158e-03,  1.5273e-02, -9.0213e-02,\n",
              "           4.0396e-02, -6.5359e-02,  5.5319e-02,  9.9407e-02,  4.4227e-02,\n",
              "          -6.1180e-02,  9.4282e-02,  7.5154e-02,  7.6209e-02, -2.6696e-02,\n",
              "          -8.2957e-02,  9.2051e-02,  4.0012e-02, -1.5889e-02, -3.8440e-02],\n",
              "         [ 5.1542e-02, -7.8361e-02, -9.5754e-02, -2.2038e-02,  8.6222e-02,\n",
              "           7.9200e-02, -8.9768e-02,  1.3204e-02, -7.0825e-02,  5.4953e-02,\n",
              "          -8.8308e-02,  6.8464e-02, -9.0963e-02, -1.9175e-02,  2.8168e-02,\n",
              "          -7.7867e-02,  8.2816e-02, -6.2428e-03, -1.1361e-02,  9.2454e-02,\n",
              "          -6.9147e-02,  4.5592e-03, -9.4302e-02,  9.8800e-02,  8.0128e-02,\n",
              "          -1.5440e-02,  2.0400e-02,  2.5972e-02,  9.3422e-02, -1.1942e-02,\n",
              "          -9.4995e-02,  3.1585e-02, -7.6259e-02,  5.8615e-03,  7.4641e-02,\n",
              "           8.2722e-02, -5.8767e-02,  1.4093e-02, -2.1640e-02,  6.3447e-02,\n",
              "           2.0666e-02,  4.3284e-02,  6.2142e-02,  6.5950e-02, -2.1002e-02,\n",
              "          -1.5017e-02,  1.2149e-02,  8.8192e-02,  6.8836e-02, -5.2315e-02,\n",
              "          -1.6389e-02, -8.9230e-02, -8.5042e-02,  2.4623e-02, -7.5038e-02,\n",
              "           8.5398e-02,  8.1513e-02, -7.8700e-04, -3.6772e-03, -4.9760e-02,\n",
              "           9.9512e-02, -5.6528e-02, -2.7368e-02,  7.4554e-02, -7.3555e-02,\n",
              "           7.6324e-02, -6.9035e-02, -3.4861e-02,  1.7406e-02,  8.0081e-02,\n",
              "           5.6992e-02, -4.4192e-02,  4.7493e-02,  4.6182e-02,  2.0331e-02,\n",
              "          -7.5011e-02, -9.9777e-02, -6.2880e-02,  4.7480e-02,  7.4365e-02,\n",
              "          -5.2084e-02, -6.7686e-02,  6.5132e-02,  6.8325e-02, -8.6857e-02,\n",
              "          -7.2440e-02, -7.9874e-02,  7.5465e-02,  8.6756e-04,  7.9149e-02,\n",
              "           8.2234e-02, -5.9748e-02,  1.0805e-02,  2.6729e-02, -1.1018e-02,\n",
              "          -3.4656e-02,  8.5795e-03, -3.6101e-02, -1.2173e-02,  7.3505e-02]],\n",
              "        requires_grad=True), Parameter containing:\n",
              " tensor([ 0.0464,  0.0248,  0.0232,  0.0221,  0.0737,  0.0409,  0.0461,  0.0586,\n",
              "         -0.0168, -0.0028], requires_grad=True)]"
            ]
          },
          "metadata": {
            "tags": []
          },
          "execution_count": 33
        }
      ]
    },
    {
      "cell_type": "code",
      "metadata": {
        "id": "AziRH_wYb_kC",
        "colab_type": "code",
        "colab": {}
      },
      "source": [
        "loss = torch.nn.CrossEntropyLoss()\n",
        "optimizer = torch.optim.Adam(mnist_net.parameters(), lr=1.0e-3)"
      ],
      "execution_count": 0,
      "outputs": []
    },
    {
      "cell_type": "code",
      "metadata": {
        "id": "hlvdPpsTf-cs",
        "colab_type": "code",
        "outputId": "b583fed9-d0ba-479d-cad8-07cf47380ce8",
        "colab": {
          "base_uri": "https://localhost:8080/",
          "height": 665
        }
      },
      "source": [
        "batch_size = 100\n",
        "\n",
        "test_accuracy_history = []\n",
        "test_loss_history = []\n",
        "\n",
        "train_loss_history = []\n",
        "\n",
        "X_test = X_test.to(device)\n",
        "y_test = y_test.to(device)\n",
        "for epoch in range(1000):\n",
        "  order = np.random.permutation(len(X_train))\n",
        "  for start_index in range(0, len(X_train),batch_size):\n",
        "    optimizer.zero_grad()\n",
        "    batch_indexes = order[start_index:start_index+batch_size]\n",
        "    x_batch = X_train[batch_indexes].to(device)\n",
        "    y_batch = y_train[batch_indexes].to(device)\n",
        "    \n",
        "    preds = mnist_net.forward(x_batch)\n",
        "    \n",
        "    loss_value = loss(preds, y_batch)\n",
        "    loss_value.backward()\n",
        "    optimizer.step()\n",
        "  test_preds = mnist_net.forward(X_test)\n",
        "  train_preds = mnist_net.forward(X_train)\n",
        "  test_loss_history.append(loss(test_preds, y_test))\n",
        "  train_loss_history.append(loss(train_preds, y_train))\n",
        "\n",
        "  accuracy = (test_preds.argmax(dim=1) == y_test).float().mean()\n",
        "  test_accuracy_history.append(accuracy)\n",
        "  print(accuracy)"
      ],
      "execution_count": 35,
      "outputs": [
        {
          "output_type": "stream",
          "text": [
            "tensor(0.9292)\n",
            "tensor(0.9474)\n",
            "tensor(0.9492)\n",
            "tensor(0.9556)\n",
            "tensor(0.9490)\n",
            "tensor(0.9606)\n",
            "tensor(0.9556)\n",
            "tensor(0.9574)\n",
            "tensor(0.9585)\n",
            "tensor(0.9625)\n",
            "tensor(0.9643)\n",
            "tensor(0.9575)\n",
            "tensor(0.9572)\n",
            "tensor(0.9590)\n",
            "tensor(0.9576)\n",
            "tensor(0.9570)\n",
            "tensor(0.9632)\n"
          ],
          "name": "stdout"
        },
        {
          "output_type": "error",
          "ename": "KeyboardInterrupt",
          "evalue": "ignored",
          "traceback": [
            "\u001b[0;31m---------------------------------------------------------------------------\u001b[0m",
            "\u001b[0;31mKeyboardInterrupt\u001b[0m                         Traceback (most recent call last)",
            "\u001b[0;32m<ipython-input-35-a38b11cf7e4d>\u001b[0m in \u001b[0;36m<module>\u001b[0;34m()\u001b[0m\n\u001b[1;32m     20\u001b[0m     \u001b[0mloss_value\u001b[0m \u001b[0;34m=\u001b[0m \u001b[0mloss\u001b[0m\u001b[0;34m(\u001b[0m\u001b[0mpreds\u001b[0m\u001b[0;34m,\u001b[0m \u001b[0my_batch\u001b[0m\u001b[0;34m)\u001b[0m\u001b[0;34m\u001b[0m\u001b[0;34m\u001b[0m\u001b[0m\n\u001b[1;32m     21\u001b[0m     \u001b[0mloss_value\u001b[0m\u001b[0;34m.\u001b[0m\u001b[0mbackward\u001b[0m\u001b[0;34m(\u001b[0m\u001b[0;34m)\u001b[0m\u001b[0;34m\u001b[0m\u001b[0;34m\u001b[0m\u001b[0m\n\u001b[0;32m---> 22\u001b[0;31m     \u001b[0moptimizer\u001b[0m\u001b[0;34m.\u001b[0m\u001b[0mstep\u001b[0m\u001b[0;34m(\u001b[0m\u001b[0;34m)\u001b[0m\u001b[0;34m\u001b[0m\u001b[0;34m\u001b[0m\u001b[0m\n\u001b[0m\u001b[1;32m     23\u001b[0m   \u001b[0mtest_preds\u001b[0m \u001b[0;34m=\u001b[0m \u001b[0mmnist_net\u001b[0m\u001b[0;34m.\u001b[0m\u001b[0mforward\u001b[0m\u001b[0;34m(\u001b[0m\u001b[0mX_test\u001b[0m\u001b[0;34m)\u001b[0m\u001b[0;34m\u001b[0m\u001b[0;34m\u001b[0m\u001b[0m\n\u001b[1;32m     24\u001b[0m   \u001b[0mtrain_preds\u001b[0m \u001b[0;34m=\u001b[0m \u001b[0mmnist_net\u001b[0m\u001b[0;34m.\u001b[0m\u001b[0mforward\u001b[0m\u001b[0;34m(\u001b[0m\u001b[0mX_train\u001b[0m\u001b[0;34m)\u001b[0m\u001b[0;34m\u001b[0m\u001b[0;34m\u001b[0m\u001b[0m\n",
            "\u001b[0;32m/usr/local/lib/python3.6/dist-packages/torch/optim/adam.py\u001b[0m in \u001b[0;36mstep\u001b[0;34m(self, closure)\u001b[0m\n\u001b[1;32m     99\u001b[0m                     \u001b[0mdenom\u001b[0m \u001b[0;34m=\u001b[0m \u001b[0mmax_exp_avg_sq\u001b[0m\u001b[0;34m.\u001b[0m\u001b[0msqrt\u001b[0m\u001b[0;34m(\u001b[0m\u001b[0;34m)\u001b[0m\u001b[0;34m.\u001b[0m\u001b[0madd_\u001b[0m\u001b[0;34m(\u001b[0m\u001b[0mgroup\u001b[0m\u001b[0;34m[\u001b[0m\u001b[0;34m'eps'\u001b[0m\u001b[0;34m]\u001b[0m\u001b[0;34m)\u001b[0m\u001b[0;34m\u001b[0m\u001b[0;34m\u001b[0m\u001b[0m\n\u001b[1;32m    100\u001b[0m                 \u001b[0;32melse\u001b[0m\u001b[0;34m:\u001b[0m\u001b[0;34m\u001b[0m\u001b[0;34m\u001b[0m\u001b[0m\n\u001b[0;32m--> 101\u001b[0;31m                     \u001b[0mdenom\u001b[0m \u001b[0;34m=\u001b[0m \u001b[0mexp_avg_sq\u001b[0m\u001b[0;34m.\u001b[0m\u001b[0msqrt\u001b[0m\u001b[0;34m(\u001b[0m\u001b[0;34m)\u001b[0m\u001b[0;34m.\u001b[0m\u001b[0madd_\u001b[0m\u001b[0;34m(\u001b[0m\u001b[0mgroup\u001b[0m\u001b[0;34m[\u001b[0m\u001b[0;34m'eps'\u001b[0m\u001b[0;34m]\u001b[0m\u001b[0;34m)\u001b[0m\u001b[0;34m\u001b[0m\u001b[0;34m\u001b[0m\u001b[0m\n\u001b[0m\u001b[1;32m    102\u001b[0m \u001b[0;34m\u001b[0m\u001b[0m\n\u001b[1;32m    103\u001b[0m                 \u001b[0mbias_correction1\u001b[0m \u001b[0;34m=\u001b[0m \u001b[0;36m1\u001b[0m \u001b[0;34m-\u001b[0m \u001b[0mbeta1\u001b[0m \u001b[0;34m**\u001b[0m \u001b[0mstate\u001b[0m\u001b[0;34m[\u001b[0m\u001b[0;34m'step'\u001b[0m\u001b[0;34m]\u001b[0m\u001b[0;34m\u001b[0m\u001b[0;34m\u001b[0m\u001b[0m\n",
            "\u001b[0;31mKeyboardInterrupt\u001b[0m: "
          ]
        }
      ]
    },
    {
      "cell_type": "code",
      "metadata": {
        "id": "gFKDyoSGkgbI",
        "colab_type": "code",
        "outputId": "91b1b5e5-6ad9-4070-e637-b61373ea90e8",
        "colab": {
          "base_uri": "https://localhost:8080/",
          "height": 286
        }
      },
      "source": [
        "plt.plot(test_accuracy_history)\n",
        "plt.plot(test_loss_history);\n",
        "plt.plot(train_loss_history)"
      ],
      "execution_count": 37,
      "outputs": [
        {
          "output_type": "execute_result",
          "data": {
            "text/plain": [
              "[<matplotlib.lines.Line2D at 0x7fd82bd2a5c0>]"
            ]
          },
          "metadata": {
            "tags": []
          },
          "execution_count": 37
        },
        {
          "output_type": "display_data",
          "data": {
            "image/png": "[encoded data removed]",
            "text/plain": [
              "<Figure size 432x288 with 1 Axes>"
            ]
          },
          "metadata": {
            "tags": []
          }
        }
      ]
    },
    {
      "cell_type": "code",
      "metadata": {
        "id": "6xzZDh7biXAb",
        "colab_type": "code",
        "colab": {
          "base_uri": "https://localhost:8080/",
          "height": 167
        },
        "outputId": "27291021-32d8-4d88-cbbe-6b1c942cda33"
      },
      "source": [
        "test_train"
      ],
      "execution_count": 39,
      "outputs": [
        {
          "output_type": "error",
          "ename": "NameError",
          "evalue": "ignored",
          "traceback": [
            "\u001b[0;31m---------------------------------------------------------------------------\u001b[0m",
            "\u001b[0;31mNameError\u001b[0m                                 Traceback (most recent call last)",
            "\u001b[0;32m<ipython-input-39-a9446c98eb4e>\u001b[0m in \u001b[0;36m<module>\u001b[0;34m()\u001b[0m\n\u001b[0;32m----> 1\u001b[0;31m \u001b[0mtest_train\u001b[0m\u001b[0;34m\u001b[0m\u001b[0;34m\u001b[0m\u001b[0m\n\u001b[0m",
            "\u001b[0;31mNameError\u001b[0m: name 'test_train' is not defined"
          ]
        }
      ]
    },
    {
      "cell_type": "code",
      "metadata": {
        "id": "3M99mEUZYgM9",
        "colab_type": "code",
        "colab": {}
      },
      "source": [
        ""
      ],
      "execution_count": 0,
      "outputs": []
    }
  ]
}