{
  "nbformat": 4,
  "nbformat_minor": 0,
  "metadata": {
    "colab": {
      "name": "Winenet",
      "provenance": [],
      "include_colab_link": true
    },
    "kernelspec": {
      "name": "python3",
      "display_name": "Python 3"
    }
  },
  "cells": [
    {
      "cell_type": "markdown",
      "metadata": {
        "id": "view-in-github",
        "colab_type": "text"
      },
      "source": [
        "<a href=\"https://colab.research.google.com/github/neklyud/Samsung-NeuroNetwork-and-Computer-Visison/blob/master/Winenet.ipynb\" target=\"_parent\"><img src=\"https://colab.research.google.com/assets/colab-badge.svg\" alt=\"Open In Colab\"/></a>"
      ]
    },
    {
      "cell_type": "code",
      "metadata": {
        "id": "oLnLelOFdkfw",
        "colab_type": "code",
        "outputId": "5226c894-a505-48f8-f3f8-89b8c1e11f65",
        "colab": {
          "base_uri": "https://localhost:8080/",
          "height": 434
        }
      },
      "source": [
        "import random\n",
        "import torch\n",
        "import numpy as np\n",
        "import sklearn.datasets\n",
        "import matplotlib.pyplot as plt\n",
        "from sklearn.model_selection import train_test_split\n",
        "\n",
        "random.seed(0)\n",
        "np.random.seed(0)\n",
        "torch.manual_seed(0)\n",
        "torch.cuda.manual_seed(0)\n",
        "torch.backends.cudnn.deterministic = True\n",
        "wine = sklearn.datasets.load_wine()\n",
        "wine.data.shape\n",
        "\n",
        "x_train, x_test, y_train, y_test = train_test_split(\n",
        "    wine.data[:, :2],\n",
        "    wine.target,\n",
        "    test_size=0.3,\n",
        "    shuffle=True)\n",
        "x_train = torch.FloatTensor(x_train)\n",
        "x_test = torch.FloatTensor(x_test)\n",
        "y_train = torch.LongTensor(y_train)\n",
        "y_test = torch.LongTensor(y_test)\n",
        "\n",
        "class WineNet(torch.nn.Module):\n",
        "    def __init__(self, n_hiden_neurons):\n",
        "        super(WineNet, self).__init__()\n",
        "        self.fc1 = torch.nn.Linear(2, n_hiden_neurons)\n",
        "        self.activ1 = torch.nn.Sigmoid()\n",
        "        self.fc2 = torch.nn.Linear(n_hiden_neurons, n_hiden_neurons)\n",
        "        self.activ2 = torch.nn.Sigmoid()\n",
        "        self.fc3 = torch.nn.Linear(n_hiden_neurons, n_hiden_neurons)\n",
        "        self.activ3 = torch.nn.Sigmoid()\n",
        "        self.fc4 = torch.nn.Linear(n_hiden_neurons, 3)\n",
        "        self.sm = torch.nn.Softmax(dim = 1)\n",
        "\n",
        "    def forward(self, x):\n",
        "        x = self.fc1(x)\n",
        "        x = self.activ1(x)\n",
        "        x = self.fc2(x)\n",
        "        x = self.activ2(x)\n",
        "        x = self.fc3(x)\n",
        "        x = self.activ3(x)\n",
        "        x = self.fc4(x)\n",
        "        return x\n",
        "\n",
        "    def inference(self, x):\n",
        "        x = self.forward(x)\n",
        "        x = self.sm(x)\n",
        "        return x\n",
        "\n",
        "wine_net = WineNet(10)\n",
        "loss = torch.nn.CrossEntropyLoss()\n",
        "optimizer = torch.optim.Adam(wine_net.parameters(), lr=1.0e-2)\n",
        "\n",
        "BATCH_SIZE = 10\n",
        "for epoch in range(15000):\n",
        "    order = np.random.permutation(len(x_train))\n",
        "    for start_index in range(0, len(x_train), BATCH_SIZE):\n",
        "        optimizer.zero_grad()\n",
        "        batch_indexes = order[start_index:start_index+BATCH_SIZE]\n",
        "        x_batch = x_train[batch_indexes]\n",
        "        y_batch = y_train[batch_indexes]\n",
        "        preds = wine_net.forward(x_batch)\n",
        "        loss_value = loss(preds, y_batch)\n",
        "        loss_value.backward()\n",
        "        optimizer.step()\n",
        "    if epoch % 100 == 0:\n",
        "        test_preds = wine_net.forward(x_test)\n",
        "        test_preds = test_preds.argmax(dim=1)\n",
        "        print((test_preds == y_test).float().mean())"
      ],
      "execution_count": 0,
      "outputs": [
        {
          "output_type": "stream",
          "text": [
            "tensor(0.4074)\n",
            "tensor(0.5185)\n",
            "tensor(0.8519)\n",
            "tensor(0.8148)\n"
          ],
          "name": "stdout"
        },
        {
          "output_type": "error",
          "ename": "KeyboardInterrupt",
          "evalue": "ignored",
          "traceback": [
            "\u001b[0;31m---------------------------------------------------------------------------\u001b[0m",
            "\u001b[0;31mKeyboardInterrupt\u001b[0m                         Traceback (most recent call last)",
            "\u001b[0;32m<ipython-input-25-90d889fadb24>\u001b[0m in \u001b[0;36m<module>\u001b[0;34m()\u001b[0m\n\u001b[1;32m     66\u001b[0m         \u001b[0mloss_value\u001b[0m \u001b[0;34m=\u001b[0m \u001b[0mloss\u001b[0m\u001b[0;34m(\u001b[0m\u001b[0mpreds\u001b[0m\u001b[0;34m,\u001b[0m \u001b[0my_batch\u001b[0m\u001b[0;34m)\u001b[0m\u001b[0;34m\u001b[0m\u001b[0;34m\u001b[0m\u001b[0m\n\u001b[1;32m     67\u001b[0m         \u001b[0mloss_value\u001b[0m\u001b[0;34m.\u001b[0m\u001b[0mbackward\u001b[0m\u001b[0;34m(\u001b[0m\u001b[0;34m)\u001b[0m\u001b[0;34m\u001b[0m\u001b[0;34m\u001b[0m\u001b[0m\n\u001b[0;32m---> 68\u001b[0;31m         \u001b[0moptimizer\u001b[0m\u001b[0;34m.\u001b[0m\u001b[0mstep\u001b[0m\u001b[0;34m(\u001b[0m\u001b[0;34m)\u001b[0m\u001b[0;34m\u001b[0m\u001b[0;34m\u001b[0m\u001b[0m\n\u001b[0m\u001b[1;32m     69\u001b[0m     \u001b[0;32mif\u001b[0m \u001b[0mepoch\u001b[0m \u001b[0;34m%\u001b[0m \u001b[0;36m100\u001b[0m \u001b[0;34m==\u001b[0m \u001b[0;36m0\u001b[0m\u001b[0;34m:\u001b[0m\u001b[0;34m\u001b[0m\u001b[0;34m\u001b[0m\u001b[0m\n\u001b[1;32m     70\u001b[0m         \u001b[0mtest_preds\u001b[0m \u001b[0;34m=\u001b[0m \u001b[0mwine_net\u001b[0m\u001b[0;34m.\u001b[0m\u001b[0mforward\u001b[0m\u001b[0;34m(\u001b[0m\u001b[0mx_test\u001b[0m\u001b[0;34m)\u001b[0m\u001b[0;34m\u001b[0m\u001b[0;34m\u001b[0m\u001b[0m\n",
            "\u001b[0;32m/usr/local/lib/python3.6/dist-packages/torch/optim/adam.py\u001b[0m in \u001b[0;36mstep\u001b[0;34m(self, closure)\u001b[0m\n\u001b[1;32m    101\u001b[0m                     \u001b[0mdenom\u001b[0m \u001b[0;34m=\u001b[0m \u001b[0mexp_avg_sq\u001b[0m\u001b[0;34m.\u001b[0m\u001b[0msqrt\u001b[0m\u001b[0;34m(\u001b[0m\u001b[0;34m)\u001b[0m\u001b[0;34m.\u001b[0m\u001b[0madd_\u001b[0m\u001b[0;34m(\u001b[0m\u001b[0mgroup\u001b[0m\u001b[0;34m[\u001b[0m\u001b[0;34m'eps'\u001b[0m\u001b[0;34m]\u001b[0m\u001b[0;34m)\u001b[0m\u001b[0;34m\u001b[0m\u001b[0;34m\u001b[0m\u001b[0m\n\u001b[1;32m    102\u001b[0m \u001b[0;34m\u001b[0m\u001b[0m\n\u001b[0;32m--> 103\u001b[0;31m                 \u001b[0mbias_correction1\u001b[0m \u001b[0;34m=\u001b[0m \u001b[0;36m1\u001b[0m \u001b[0;34m-\u001b[0m \u001b[0mbeta1\u001b[0m \u001b[0;34m**\u001b[0m \u001b[0mstate\u001b[0m\u001b[0;34m[\u001b[0m\u001b[0;34m'step'\u001b[0m\u001b[0;34m]\u001b[0m\u001b[0;34m\u001b[0m\u001b[0;34m\u001b[0m\u001b[0m\n\u001b[0m\u001b[1;32m    104\u001b[0m                 \u001b[0mbias_correction2\u001b[0m \u001b[0;34m=\u001b[0m \u001b[0;36m1\u001b[0m \u001b[0;34m-\u001b[0m \u001b[0mbeta2\u001b[0m \u001b[0;34m**\u001b[0m \u001b[0mstate\u001b[0m\u001b[0;34m[\u001b[0m\u001b[0;34m'step'\u001b[0m\u001b[0;34m]\u001b[0m\u001b[0;34m\u001b[0m\u001b[0;34m\u001b[0m\u001b[0m\n\u001b[1;32m    105\u001b[0m                 \u001b[0mstep_size\u001b[0m \u001b[0;34m=\u001b[0m \u001b[0mgroup\u001b[0m\u001b[0;34m[\u001b[0m\u001b[0;34m'lr'\u001b[0m\u001b[0;34m]\u001b[0m \u001b[0;34m*\u001b[0m \u001b[0mmath\u001b[0m\u001b[0;34m.\u001b[0m\u001b[0msqrt\u001b[0m\u001b[0;34m(\u001b[0m\u001b[0mbias_correction2\u001b[0m\u001b[0;34m)\u001b[0m \u001b[0;34m/\u001b[0m \u001b[0mbias_correction1\u001b[0m\u001b[0;34m\u001b[0m\u001b[0;34m\u001b[0m\u001b[0m\n",
            "\u001b[0;31mKeyboardInterrupt\u001b[0m: "
          ]
        }
      ]
    },
    {
      "cell_type": "code",
      "metadata": {
        "id": "PsSRBnMlIZK0",
        "colab_type": "code",
        "outputId": "7f73d7a8-05de-4a55-a55e-f7dc0ae224d8",
        "colab": {
          "base_uri": "https://localhost:8080/",
          "height": 52
        }
      },
      "source": [
        "print(test_preds[:5], y_test[:5])\n",
        "print((test_preds[:5] == y_test[:5]).float().mean())"
      ],
      "execution_count": 0,
      "outputs": [
        {
          "output_type": "stream",
          "text": [
            "tensor([0, 2, 1, 0, 2]) tensor([0, 2, 1, 0, 1])\n",
            "tensor(0.8000)\n"
          ],
          "name": "stdout"
        }
      ]
    },
    {
      "cell_type": "code",
      "metadata": {
        "id": "IqBcYuFVi0cs",
        "colab_type": "code",
        "outputId": "a2b95a6a-bdb2-452e-93a0-afc672ed5dd5",
        "colab": {
          "base_uri": "https://localhost:8080/",
          "height": 802
        }
      },
      "source": [
        "import matplotlib.pyplot as plt\n",
        "%matplotlib inline\n",
        "\n",
        "plt.rcParams['figure.figsize'] = (10,8)\n",
        "\n",
        "n_classes = 3\n",
        "plot_colors = ['green', 'orange', 'black']\n",
        "plot_step = 0.02\n",
        "\n",
        "\n",
        "x_min, x_max = x_train[:, 0].min() - 1, x_train[:,0].max() + 1\n",
        "y_min, y_max = x_train[:, 1].min() - 1, x_train[:,1].max() + 1\n",
        "xx, yy = torch.meshgrid(torch.arange(x_min, x_max, plot_step),\n",
        "                       torch.arange(y_min, y_max, plot_step))\n",
        "\n",
        "preds = wine_net.inference(\n",
        "  torch.cat([xx.reshape(-1,1), yy.reshape(-1,1)], dim = 1))\n",
        "\n",
        "preds_class = preds.data.numpy().argmax(axis=1)\n",
        "preds_class = preds_class.reshape(xx.shape)\n",
        "plt.contourf(xx,yy,preds_class, cmap='Accent')\n",
        "\n",
        "for i, color in zip(range(n_classes), plot_colors):\n",
        "  indexes = np.where(y_train == i)\n",
        "  plt.scatter(x_train[indexes, 0], x_train[indexes, 1], c = color, label = wine.target_names[i], cmap='Accept')\n",
        "  plt.xlabel(wine.feature_names[0])\n",
        "  plt.ylabel(wine.feature_names[1])\n",
        "  print(x_train[indexes, 0])\n",
        "  plt.legend()"
      ],
      "execution_count": 0,
      "outputs": [
        {
          "output_type": "stream",
          "text": [
            "tensor([[13.7100, 13.3000, 13.1600, 13.2400, 14.1000, 13.0500, 13.9400, 14.1000,\n",
            "         14.7500, 12.8500, 14.0600, 13.6300, 13.8200, 14.3700, 14.3900, 13.7500,\n",
            "         14.3800, 14.2300, 14.3800, 14.1200, 13.4800, 13.2900, 13.4100, 13.2000,\n",
            "         13.8800, 13.8300, 13.0700, 13.7700, 13.5100, 13.8700, 13.5800, 13.6800,\n",
            "         14.0200, 13.0500, 14.2200, 13.7200, 13.2800, 12.9300, 13.8600, 13.9000]])\n",
            "tensor([[12.2200, 13.8600, 13.0500, 12.2900, 12.7700, 13.6700, 12.3700, 12.4700,\n",
            "         11.8100, 11.6100, 12.9900, 11.4600, 12.0700, 11.8200, 12.0800, 12.1700,\n",
            "         12.4200, 11.8700, 12.2100, 12.6700, 12.3300, 12.0800, 13.0300, 12.7200,\n",
            "         13.3400, 11.6600, 11.8400, 12.0000, 12.0000, 12.3400, 12.3700, 11.4500,\n",
            "         12.4200, 12.3700, 12.0800, 11.7900, 12.2900, 12.0800, 12.7000, 11.0300,\n",
            "         13.4900, 11.8400, 12.7200, 11.6400, 12.2900, 11.6500, 11.8200, 12.3700,\n",
            "         12.4200]])\n",
            "tensor([[13.2700, 13.1600, 12.8500, 13.8400, 12.5100, 12.9600, 12.7700, 13.4800,\n",
            "         13.4500, 12.2000, 13.1700, 12.2500, 13.7300, 13.1700, 12.8600, 12.5300,\n",
            "         13.1100, 13.2300, 13.7100, 13.6200, 12.8100, 12.5800, 12.7000, 12.8400,\n",
            "         13.0800, 12.4500, 13.5200, 13.5000, 12.8700, 13.3200, 14.1300, 12.8200,\n",
            "         13.4000, 12.9300, 14.1600]])\n"
          ],
          "name": "stdout"
        },
        {
          "output_type": "display_data",
          "data": {
            "image/png": "[encoded data removed]",
            "text/plain": [
              "<Figure size 720x576 with 1 Axes>"
            ]
          },
          "metadata": {
            "tags": []
          }
        }
      ]
    },
    {
      "cell_type": "code",
      "metadata": {
        "id": "XwiAGnuRdogZ",
        "colab_type": "code",
        "colab": {}
      },
      "source": [
        ""
      ],
      "execution_count": 0,
      "outputs": []
    }
  ]
}