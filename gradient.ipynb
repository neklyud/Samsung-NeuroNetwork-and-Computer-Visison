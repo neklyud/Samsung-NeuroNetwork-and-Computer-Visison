{
  "nbformat": 4,
  "nbformat_minor": 0,
  "metadata": {
    "colab": {
      "name": "gradient",
      "provenance": [],
      "collapsed_sections": [],
      "include_colab_link": true
    },
    "kernelspec": {
      "name": "python3",
      "display_name": "Python 3"
    }
  },
  "cells": [
    {
      "cell_type": "markdown",
      "metadata": {
        "id": "view-in-github",
        "colab_type": "text"
      },
      "source": [
        "<a href=\"https://colab.research.google.com/github/neklyud/Samsung-NeuroNetwork-and-Computer-Visison/blob/master/gradient.ipynb\" target=\"_parent\"><img src=\"https://colab.research.google.com/assets/colab-badge.svg\" alt=\"Open In Colab\"/></a>"
      ]
    },
    {
      "cell_type": "code",
      "metadata": {
        "id": "4FfIlJUV5l_b",
        "colab_type": "code",
        "outputId": "5c183e0b-aa92-4f29-b552-21e0d0c5b044",
        "colab": {
          "base_uri": "https://localhost:8080/",
          "height": 52
        }
      },
      "source": [
        "import torch\n",
        "\n",
        "w = torch.tensor([[5.,10.],[1.,2.]], requires_grad=True)\n",
        "\n",
        "function = torch.log(torch.log(w+7)).prod()\n",
        "function.backward()\n",
        "print(w)"
      ],
      "execution_count": 1,
      "outputs": [
        {
          "output_type": "stream",
          "text": [
            "tensor([[ 5., 10.],\n",
            "        [ 1.,  2.]], requires_grad=True)\n"
          ],
          "name": "stdout"
        }
      ]
    },
    {
      "cell_type": "markdown",
      "metadata": {
        "id": "aakl56PrmbKq",
        "colab_type": "text"
      },
      "source": [
        "# Градиентный спуск для функции log(log(w+7)))\n"
      ]
    },
    {
      "cell_type": "code",
      "metadata": {
        "id": "RExOwYN9esK1",
        "colab_type": "code",
        "outputId": "c82cf8b7-fd59-4cd8-fc85-1d21fce4c70c",
        "colab": {
          "base_uri": "https://localhost:8080/",
          "height": 52
        }
      },
      "source": [
        "import torch\n",
        "\n",
        "w = torch.tensor([[5., 10.], [1., 2.]], requires_grad=True)\n",
        "alpha = 0.001\n",
        "\n",
        "for _ in range(500):\n",
        "    # it's critical to calculate function inside the loop:\n",
        "    function = (w + 7).log().log().prod()\n",
        "    function.backward()\n",
        "    w.data -=  alpha*w.grad\n",
        "    w.grad.zero_()\n",
        "print(w)"
      ],
      "execution_count": 2,
      "outputs": [
        {
          "output_type": "stream",
          "text": [
            "tensor([[4.9900, 9.9948],\n",
            "        [0.9775, 1.9825]], requires_grad=True)\n"
          ],
          "name": "stdout"
        }
      ]
    },
    {
      "cell_type": "code",
      "metadata": {
        "id": "5Sy1SSh1hwEx",
        "colab_type": "code",
        "outputId": "eb7a3da3-fa96-420b-eec7-f5561d2d7c84",
        "colab": {
          "base_uri": "https://localhost:8080/",
          "height": 407
        }
      },
      "source": [
        "import torch\n",
        "w = torch.tensor([1.], requires_grad=True)\n",
        "alpha = 0.\n",
        "while(1):\n",
        "    # it's critical to calculate function inside the loop:\n",
        "    function = w**2\n",
        "    function.backward()\n",
        "    w.data -=  alpha*w.grad\n",
        "    w.grad.zero_()\n",
        "    alpha +=0.01\n",
        "    if alpha == 10.:\n",
        "      break\n",
        "print(w)"
      ],
      "execution_count": 4,
      "outputs": [
        {
          "output_type": "error",
          "ename": "KeyboardInterrupt",
          "evalue": "ignored",
          "traceback": [
            "\u001b[0;31m---------------------------------------------------------------------------\u001b[0m",
            "\u001b[0;31mKeyboardInterrupt\u001b[0m                         Traceback (most recent call last)",
            "\u001b[0;32m<ipython-input-4-02bd839c8a8e>\u001b[0m in \u001b[0;36m<module>\u001b[0;34m()\u001b[0m\n\u001b[1;32m      5\u001b[0m     \u001b[0;31m# it's critical to calculate function inside the loop:\u001b[0m\u001b[0;34m\u001b[0m\u001b[0;34m\u001b[0m\u001b[0;34m\u001b[0m\u001b[0m\n\u001b[1;32m      6\u001b[0m     \u001b[0mfunction\u001b[0m \u001b[0;34m=\u001b[0m \u001b[0mw\u001b[0m\u001b[0;34m**\u001b[0m\u001b[0;36m2\u001b[0m\u001b[0;34m\u001b[0m\u001b[0;34m\u001b[0m\u001b[0m\n\u001b[0;32m----> 7\u001b[0;31m     \u001b[0mfunction\u001b[0m\u001b[0;34m.\u001b[0m\u001b[0mbackward\u001b[0m\u001b[0;34m(\u001b[0m\u001b[0;34m)\u001b[0m\u001b[0;34m\u001b[0m\u001b[0;34m\u001b[0m\u001b[0m\n\u001b[0m\u001b[1;32m      8\u001b[0m     \u001b[0mw\u001b[0m\u001b[0;34m.\u001b[0m\u001b[0mdata\u001b[0m \u001b[0;34m-=\u001b[0m  \u001b[0malpha\u001b[0m\u001b[0;34m*\u001b[0m\u001b[0mw\u001b[0m\u001b[0;34m.\u001b[0m\u001b[0mgrad\u001b[0m\u001b[0;34m\u001b[0m\u001b[0;34m\u001b[0m\u001b[0m\n\u001b[1;32m      9\u001b[0m     \u001b[0mw\u001b[0m\u001b[0;34m.\u001b[0m\u001b[0mgrad\u001b[0m\u001b[0;34m.\u001b[0m\u001b[0mzero_\u001b[0m\u001b[0;34m(\u001b[0m\u001b[0;34m)\u001b[0m\u001b[0;34m\u001b[0m\u001b[0;34m\u001b[0m\u001b[0m\n",
            "\u001b[0;32m/usr/local/lib/python3.6/dist-packages/torch/tensor.py\u001b[0m in \u001b[0;36mbackward\u001b[0;34m(self, gradient, retain_graph, create_graph)\u001b[0m\n\u001b[1;32m    105\u001b[0m                 \u001b[0mproducts\u001b[0m\u001b[0;34m.\u001b[0m \u001b[0mDefaults\u001b[0m \u001b[0mto\u001b[0m\u001b[0;31m \u001b[0m\u001b[0;31m`\u001b[0m\u001b[0;31m`\u001b[0m\u001b[0;32mFalse\u001b[0m\u001b[0;31m`\u001b[0m\u001b[0;31m`\u001b[0m\u001b[0;34m.\u001b[0m\u001b[0;34m\u001b[0m\u001b[0;34m\u001b[0m\u001b[0m\n\u001b[1;32m    106\u001b[0m         \"\"\"\n\u001b[0;32m--> 107\u001b[0;31m         \u001b[0mtorch\u001b[0m\u001b[0;34m.\u001b[0m\u001b[0mautograd\u001b[0m\u001b[0;34m.\u001b[0m\u001b[0mbackward\u001b[0m\u001b[0;34m(\u001b[0m\u001b[0mself\u001b[0m\u001b[0;34m,\u001b[0m \u001b[0mgradient\u001b[0m\u001b[0;34m,\u001b[0m \u001b[0mretain_graph\u001b[0m\u001b[0;34m,\u001b[0m \u001b[0mcreate_graph\u001b[0m\u001b[0;34m)\u001b[0m\u001b[0;34m\u001b[0m\u001b[0;34m\u001b[0m\u001b[0m\n\u001b[0m\u001b[1;32m    108\u001b[0m \u001b[0;34m\u001b[0m\u001b[0m\n\u001b[1;32m    109\u001b[0m     \u001b[0;32mdef\u001b[0m \u001b[0mregister_hook\u001b[0m\u001b[0;34m(\u001b[0m\u001b[0mself\u001b[0m\u001b[0;34m,\u001b[0m \u001b[0mhook\u001b[0m\u001b[0;34m)\u001b[0m\u001b[0;34m:\u001b[0m\u001b[0;34m\u001b[0m\u001b[0;34m\u001b[0m\u001b[0m\n",
            "\u001b[0;32m/usr/local/lib/python3.6/dist-packages/torch/autograd/__init__.py\u001b[0m in \u001b[0;36mbackward\u001b[0;34m(tensors, grad_tensors, retain_graph, create_graph, grad_variables)\u001b[0m\n\u001b[1;32m     91\u001b[0m     Variable._execution_engine.run_backward(\n\u001b[1;32m     92\u001b[0m         \u001b[0mtensors\u001b[0m\u001b[0;34m,\u001b[0m \u001b[0mgrad_tensors\u001b[0m\u001b[0;34m,\u001b[0m \u001b[0mretain_graph\u001b[0m\u001b[0;34m,\u001b[0m \u001b[0mcreate_graph\u001b[0m\u001b[0;34m,\u001b[0m\u001b[0;34m\u001b[0m\u001b[0;34m\u001b[0m\u001b[0m\n\u001b[0;32m---> 93\u001b[0;31m         allow_unreachable=True)  # allow_unreachable flag\n\u001b[0m\u001b[1;32m     94\u001b[0m \u001b[0;34m\u001b[0m\u001b[0m\n\u001b[1;32m     95\u001b[0m \u001b[0;34m\u001b[0m\u001b[0m\n",
            "\u001b[0;31mKeyboardInterrupt\u001b[0m: "
          ]
        }
      ]
    },
    {
      "cell_type": "code",
      "metadata": {
        "id": "gMqJ4ftN17Os",
        "colab_type": "code",
        "outputId": "0d08f1cd-2912-4c19-f9e7-d1a9aca0761b",
        "colab": {
          "base_uri": "https://localhost:8080/",
          "height": 428
        }
      },
      "source": [
        "%matplotlib inline\n",
        "import matplotlib\n",
        "import matplotlib.pyplot as plt\n",
        "matplotlib.rcParams['figure.figsize'] = (13.,5.)\n",
        "\n",
        "\n",
        "import torch\n",
        "x_train = torch.rand(100)\n",
        "x_train = x_train*20. - 10.\n",
        "y_train = torch.sin(x_train)\n",
        "\n",
        "#plt.plot(x_train.numpy(), y_train.numpy(), 'o')\n",
        "#plt.title('$y = sin(x)$')\n",
        "\n",
        "noise = torch.randn(y_train.shape)/5\n",
        "#plt.plot(x_train.numpy(), noise.numpy(), 'o')\n",
        "#plt.axis([-10,10,-1,1])\n",
        "#plt.title('Gaussian noise')\n",
        "\n",
        "y_train = y_train + noise\n",
        "#plt.plot(x_train.numpy(), y_train.numpy(), 'o')\n",
        "#plt.axis([-10,10,-1,1])\n",
        "#plt.title('y(x) with noise')\n",
        "\n",
        "\n",
        "x_train.unsqueeze_(1)\n",
        "y_train.unsqueeze_(1)\n",
        "\n",
        "x_validation = torch.linspace(-10,10,100)\n",
        "y_validation = torch.sin(x_validation.data)\n",
        "\n",
        "x_validation.unsqueeze_(1)\n",
        "y_validation.unsqueeze_(1)\n",
        "\n",
        "class SineNet(torch.nn.Module):\n",
        "  def __init__(self, n_hidden_neuron):\n",
        "    super(SineNet, self).__init__()\n",
        "    self.fc1 = torch.nn.Linear(1, n_hidden_neuron)\n",
        "    self.acc1 = torch.nn.Sigmoid()\n",
        "    self.fc2 = torch.nn.Linear(n_hidden_neuron,1)\n",
        "    \n",
        "  def forward(self, x):\n",
        "    x = self.fc1(x)\n",
        "    x = self.acc1(x)\n",
        "    x = self.fc2(x)\n",
        "    return x\n",
        "\n",
        "def predict(net,x,y):\n",
        "  y_pred = net.forward(x)\n",
        "  plt.plot(x.numpy(), y.numpy(), 'o')\n",
        "  plt.plot(x.numpy(), y_pred.data.numpy(),'o',c='r')\n",
        "  plt.xlabel\n",
        "  plt.ylabel\n",
        "    \n",
        "def loss(pred, target):\n",
        "  squares = (pred-target)**2\n",
        "  return squares.mean()\n",
        "sine_net = SineNet(50)\n",
        "print(sine_net)\n",
        "#predict(sine_net, x_validation, y_validation)\n",
        "\n",
        "optimizer = torch.optim.Adam(sine_net.parameters(), lr = 0.01)\n",
        "\n",
        "\n",
        "for epoch_index in range(4650):\n",
        "  optimizer.zero_grad()\n",
        "  y_pred = sine_net.forward(x_train)\n",
        "  loss_val = loss(y_pred, y_train)\n",
        "  loss_val.backward()\n",
        "  optimizer.step()\n",
        "  \n",
        "predict(sine_net, x_validation, y_validation)"
      ],
      "execution_count": 0,
      "outputs": [
        {
          "output_type": "stream",
          "text": [
            "SineNet(\n",
            "  (fc1): Linear(in_features=1, out_features=50, bias=True)\n",
            "  (acc1): Sigmoid()\n",
            "  (fc2): Linear(in_features=50, out_features=1, bias=True)\n",
            ")\n"
          ],
          "name": "stdout"
        },
        {
          "output_type": "display_data",
          "data": {
            "image/png": "[encoded data removed]",
            "text/plain": [
              "<Figure size 936x360 with 1 Axes>"
            ]
          },
          "metadata": {
            "tags": []
          }
        }
      ]
    },
    {
      "cell_type": "code",
      "metadata": {
        "id": "8uGFMfD_-S9u",
        "colab_type": "code",
        "outputId": "4e1c3d11-ebcf-44dd-90b3-8dff0b732739",
        "colab": {
          "base_uri": "https://localhost:8080/",
          "height": 302
        }
      },
      "source": [
        "class SineNet(torch.nn.Module):\n",
        "  def __init__(self, n_hidden_neuron):\n",
        "    super(SineNet, self).__init__()\n",
        "    self.fc1 = torch.nn.Linear(1, n_hidden_neuron)\n",
        "    self.acc1 = torch.nn.Sigmoid()\n",
        "    self.fc2 = torch.nn.Linear(n_hidden_neuron,1)\n",
        "    \n",
        "  def forward(self, x):\n",
        "    x = self.fc1(x)\n",
        "    x = self.acc1(x)\n",
        "    x = self.fc2(x)\n",
        "    return x\n",
        "\n",
        "def predict(net,x,y):\n",
        "  y_pred = net.forward(x)\n",
        "  plt.plot(x.numpy(), y.numpy(), 'o')\n",
        "  plt.plot(x.numpy(), y_pred.data.numpy(),'o',c=r)\n",
        "  plt.xlabel\n",
        "  plt.ylabel\n",
        "  \n",
        "sine_net = SineNet(50)\n",
        "print(sine_net)\n",
        "predict(sine_net, x_validation, y_validation)"
      ],
      "execution_count": 0,
      "outputs": [
        {
          "output_type": "stream",
          "text": [
            "SineNet(\n",
            "  (fc1): Linear(in_features=1, out_features=50, bias=True)\n",
            "  (acc1): Sigmoid()\n",
            "  (fc2): Linear(in_features=50, out_features=1, bias=True)\n",
            ")\n"
          ],
          "name": "stdout"
        },
        {
          "output_type": "error",
          "ename": "NameError",
          "evalue": "ignored",
          "traceback": [
            "\u001b[0;31m---------------------------------------------------------------------------\u001b[0m",
            "\u001b[0;31mNameError\u001b[0m                                 Traceback (most recent call last)",
            "\u001b[0;32m<ipython-input-12-fc3b009d6a4c>\u001b[0m in \u001b[0;36m<module>\u001b[0;34m()\u001b[0m\n\u001b[1;32m     21\u001b[0m \u001b[0msine_net\u001b[0m \u001b[0;34m=\u001b[0m \u001b[0mSineNet\u001b[0m\u001b[0;34m(\u001b[0m\u001b[0;36m50\u001b[0m\u001b[0;34m)\u001b[0m\u001b[0;34m\u001b[0m\u001b[0;34m\u001b[0m\u001b[0m\n\u001b[1;32m     22\u001b[0m \u001b[0mprint\u001b[0m\u001b[0;34m(\u001b[0m\u001b[0msine_net\u001b[0m\u001b[0;34m)\u001b[0m\u001b[0;34m\u001b[0m\u001b[0;34m\u001b[0m\u001b[0m\n\u001b[0;32m---> 23\u001b[0;31m \u001b[0mpredict\u001b[0m\u001b[0;34m(\u001b[0m\u001b[0msine_net\u001b[0m\u001b[0;34m,\u001b[0m \u001b[0mx_validation\u001b[0m\u001b[0;34m,\u001b[0m \u001b[0my_validation\u001b[0m\u001b[0;34m)\u001b[0m\u001b[0;34m\u001b[0m\u001b[0;34m\u001b[0m\u001b[0m\n\u001b[0m",
            "\u001b[0;31mNameError\u001b[0m: name 'x_validation' is not defined"
          ]
        }
      ]
    },
    {
      "cell_type": "code",
      "metadata": {
        "id": "J4hghLoc0pTO",
        "colab_type": "code",
        "outputId": "c4e50cb3-7acb-4b90-9654-a8e628ddfc75",
        "colab": {
          "base_uri": "https://localhost:8080/",
          "height": 340
        }
      },
      "source": [
        "import torch\n",
        "import matplotlib\n",
        "import matplotlib.pyplot as plt\n",
        "matplotlib.rcParams['figure.figsize'] = (13.,5.)\n",
        "\n",
        "class RegressionNet(torch.nn.Module):\n",
        "    def __init__(self, n_hidden_neurons):\n",
        "      super(RegressionNet, self).__init__()\n",
        "      self.fc1 = torch.nn.Linear(in_features = 1, out_features = 600)\n",
        "      self.acc1 = torch.nn.Tanh()\n",
        "      self.fc2 = torch.nn.Linear(in_features = 600, out_features = 1)\n",
        "      \n",
        "    def forward(self, x):\n",
        "      x = self.fc1(x)\n",
        "      x = self.acc1(x)\n",
        "      x = self.fc2(x)\n",
        "      return x\n",
        "\n",
        "net = RegressionNet(600)\n",
        "\n",
        "def target_function(x):\n",
        "    return 2**x * torch.sin(2**-x)\n",
        "\n",
        "# ------Dataset preparation start--------:\n",
        "x_train =  torch.linspace(-10, 5, 100)\n",
        "y_train = target_function(x_train)\n",
        "noise = torch.randn(y_train.shape) / 20.\n",
        "y_train = y_train + noise\n",
        "x_train.unsqueeze_(1)\n",
        "y_train.unsqueeze_(1)\n",
        "\n",
        "x_validation = torch.linspace(-10, 5, 100)\n",
        "y_validation = target_function(x_validation)\n",
        "x_validation.unsqueeze_(1)\n",
        "y_validation.unsqueeze_(1)\n",
        "# ------Dataset preparation end--------:\n",
        "\n",
        "def metric(pred, target):\n",
        "    return (pred - target).abs().mean()\n",
        "\n",
        "optimizer = torch.optim.Adam(net.parameters(), lr=0.001)\n",
        "\n",
        "def loss(pred, target):\n",
        "    squares = (pred-target)**2\n",
        "    return squares.mean()\n",
        "def predict(net,x,y):\n",
        "  y_pred = net.forward(x)\n",
        "  plt.plot(x.numpy(), y.numpy(), 'o')\n",
        "  plt.plot(x.numpy(), y_pred.data.numpy(),'o',c='r')\n",
        "  plt.xlabel\n",
        "  plt.ylabel\n",
        "  \n",
        "for epoch_index in range(20000):\n",
        "    optimizer.zero_grad()\n",
        "\n",
        "    y_pred = net.forward(x_train)\n",
        "    loss_value = loss(y_pred, y_train)\n",
        "    loss_value.backward()\n",
        "    optimizer.step()\n",
        "    \n",
        "predict(net, x_validation, y_validation)\n",
        "print(metric(net.forward(x_validation), y_validation).item())"
      ],
      "execution_count": 0,
      "outputs": [
        {
          "output_type": "stream",
          "text": [
            "0.022481320425868034\n"
          ],
          "name": "stdout"
        },
        {
          "output_type": "display_data",
          "data": {
            "image/png": "[encoded data removed]",
            "text/plain": [
              "<Figure size 936x360 with 1 Axes>"
            ]
          },
          "metadata": {
            "tags": []
          }
        }
      ]
    },
    {
      "cell_type": "code",
      "metadata": {
        "id": "vpWgm-00-Mjd",
        "colab_type": "code",
        "colab": {}
      },
      "source": [
        ""
      ],
      "execution_count": 0,
      "outputs": []
    }
  ]
}